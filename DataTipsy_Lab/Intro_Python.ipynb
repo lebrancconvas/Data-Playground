{
 "cells": [
  {
   "cell_type": "markdown",
   "id": "f4bcb53a",
   "metadata": {},
   "source": [
    "# DataTipsy Introduction to Python"
   ]
  },
  {
   "cell_type": "markdown",
   "id": "146c7509",
   "metadata": {},
   "source": [
    "Python is a very versatile programming language. It can be used for multiple purposes, including data analysis, webscraping, managing manual tasks, sending email, web development, and even building a simple game.\n",
    "\n",
    "Before we can even start coding, there are multiple things you need to do in order to properly get setup."
   ]
  },
  {
   "cell_type": "markdown",
   "id": "cac71a24",
   "metadata": {},
   "source": [
    "## Get to Know Command Line \n",
    "On Mac, you can use Spotlight Search to search for `Terminal` or `iTerm`, and open it. You'll see a cool black window that makes you feel like a hacker in a Hollywood movie. You will need to use this to open up an Jupyter Notebook and also install other tools such as SDK and Python libraries.\n",
    "\n",
    "You can try typing `ls` (stands for list directory) then enter, you'll see files and folder in your root directory, including `Desktop`. Now try `cd Desktop`, where `cd` stands for change directory, followed by a folder name in your current directory. This is just one small example of command line.\n",
    "\n",
    "We will use command line to install PIP and python libraries."
   ]
  },
  {
   "cell_type": "markdown",
   "id": "cc4d768a",
   "metadata": {},
   "source": [
    "## Getting Ready to Code\n",
    "\n",
    "The following is the summary of what we need to do before coding.\n",
    "\n",
    "### 1. Download Python\n",
    "Offical download source: https://www.python.org/downloads/\n",
    "\n",
    "### 2. Install PIP\n",
    "Official installation document: https://pip.pypa.io/en/stable/installation/\n",
    "\n",
    "- Download the script, from https://bootstrap.pypa.io/get-pip.py.\n",
    "- Open a terminal/command prompt, `cd` to the folder containing the `get-pip.py` file and run:\n",
    "\n",
    "For Linux and MacOS:\n",
    "```\n",
    "python get-pip.py\n",
    "```\n",
    "\n",
    "For Window:\n",
    "```\n",
    "py get-pip.py\n",
    "```\n",
    "\n",
    "Then run this to test if you have installed it successfully:\n",
    "```\n",
    "pip --version\n",
    "```\n",
    "You should be able to see the version\n",
    "\n",
    "### 3. Install Jupyter Notebook\n",
    "\n",
    "```\n",
    "pip install jupyterlab\n",
    "```\n",
    "\n",
    "### 4. Open Jupyter Notebook\n",
    "Now you can create a new project folder either manually or using `mkdir`.\n",
    "\n",
    "Here is a sample command line to create a folder called `my_folder`\n",
    "```\n",
    "mkdir my_folder\n",
    "```\n",
    "\n",
    "Then `cd` into your folder\n",
    "\n",
    "```\n",
    "cd my_folder\n",
    "```\n",
    "\n",
    "And open Jupyter Notebook\n",
    "```\n",
    "jupyter notebook\n",
    "```\n",
    "Now you should be able see a page where you can create folder.\n",
    "\n",
    "### Working with Jupyter Notebook\n",
    "\n",
    "The tool we're using here is called a Jupyter notebook (.ipynb), or a notebook. Each block is called a cell. It can be a markdown cell (for text) or code cell. This cell is a Markdown cell.\n",
    "\n",
    "You can run your code in a cell-by-cell manner which is great for experiment which requires lots of trial and error. If you ues a python script (.py), you will need to run the whole file.\n",
    "\n",
    "Note that a notebook can be exported into HTML file just to quickly view the content but we can't edit the notebook. If you want to edit the content in the notebook, you need to open the .ipynb file with Jupyter notebook through a command line."
   ]
  },
  {
   "cell_type": "code",
   "execution_count": 1,
   "id": "1a0ad232",
   "metadata": {},
   "outputs": [],
   "source": [
    "# This is a Code cell\n",
    "# We can use sharpe sign in front of a line of code to make a comment. The program will ignore it.\n",
    "# You can run this cell and it will show nothing because these 3 lines are all comments."
   ]
  },
  {
   "cell_type": "markdown",
   "id": "f6f7eb4b",
   "metadata": {},
   "source": [
    "Now let's use the commad `print` to print the text `Hello World`"
   ]
  },
  {
   "cell_type": "code",
   "execution_count": 2,
   "id": "3a78bc9a",
   "metadata": {},
   "outputs": [
    {
     "name": "stdout",
     "output_type": "stream",
     "text": [
      "Hello World\n"
     ]
    }
   ],
   "source": [
    "print(\"Hello World\")"
   ]
  },
  {
   "cell_type": "markdown",
   "id": "6ecf239f",
   "metadata": {},
   "source": [
    "You can also run the below cell and see Hello World printed, but this is a notebook function only. If you're using a python script (.py) the string `Hello World` won't be printed. So it's better that we use `print`."
   ]
  },
  {
   "cell_type": "code",
   "execution_count": 3,
   "id": "533ae9d3",
   "metadata": {},
   "outputs": [
    {
     "data": {
      "text/plain": [
       "'Hello World2'"
      ]
     },
     "execution_count": 3,
     "metadata": {},
     "output_type": "execute_result"
    }
   ],
   "source": [
    "\"Hello world1\"\n",
    "\"Hello World2\""
   ]
  },
  {
   "cell_type": "markdown",
   "id": "6dce0efa",
   "metadata": {},
   "source": [
    "Also, you can observe that, with the built-in notebook function, it will print the last line of the code in the cell. Other lines will not be printed. To do so, you need multple `print`."
   ]
  },
  {
   "cell_type": "code",
   "execution_count": 4,
   "id": "535742eb",
   "metadata": {
    "scrolled": true
   },
   "outputs": [
    {
     "name": "stdout",
     "output_type": "stream",
     "text": [
      "Hellow world1\n",
      "Hellow world2\n"
     ]
    }
   ],
   "source": [
    "print(\"Hellow world1\")\n",
    "print(\"Hellow world2\")"
   ]
  },
  {
   "cell_type": "markdown",
   "id": "f20dfba2",
   "metadata": {},
   "source": [
    "## Data Structure\n",
    "\n",
    "There are many data structure in Python, these are some of the common ones:\n",
    "- string\n",
    "- float\n",
    "- int\n",
    "- boolean\n",
    "- list\n",
    "- dict\n",
    "- set"
   ]
  },
  {
   "cell_type": "code",
   "execution_count": 5,
   "id": "db02874d",
   "metadata": {},
   "outputs": [
    {
     "data": {
      "text/plain": [
       "'This a sample string'"
      ]
     },
     "execution_count": 5,
     "metadata": {},
     "output_type": "execute_result"
    }
   ],
   "source": [
    "\"This a sample string\""
   ]
  },
  {
   "cell_type": "code",
   "execution_count": 6,
   "id": "664ba198",
   "metadata": {},
   "outputs": [
    {
     "data": {
      "text/plain": [
       "3.14"
      ]
     },
     "execution_count": 6,
     "metadata": {},
     "output_type": "execute_result"
    }
   ],
   "source": [
    "# float\n",
    "3.14"
   ]
  },
  {
   "cell_type": "code",
   "execution_count": 7,
   "id": "dfcea2ec",
   "metadata": {},
   "outputs": [
    {
     "data": {
      "text/plain": [
       "2"
      ]
     },
     "execution_count": 7,
     "metadata": {},
     "output_type": "execute_result"
    }
   ],
   "source": [
    "# int (integer)\n",
    "2"
   ]
  },
  {
   "cell_type": "code",
   "execution_count": 8,
   "id": "ef68e798",
   "metadata": {},
   "outputs": [
    {
     "name": "stdout",
     "output_type": "stream",
     "text": [
      "True\n",
      "False\n"
     ]
    }
   ],
   "source": [
    "# boolean (True of False)\n",
    "print(True)\n",
    "print(False)"
   ]
  },
  {
   "cell_type": "code",
   "execution_count": 9,
   "id": "ad7b4e97",
   "metadata": {},
   "outputs": [
    {
     "name": "stdout",
     "output_type": "stream",
     "text": [
      "['element1', 'element2']\n",
      "[1, 2, 3]\n"
     ]
    }
   ],
   "source": [
    "# list\n",
    "print([\"element1\", \"element2\"])\n",
    "\n",
    "print([1,2,3])"
   ]
  },
  {
   "cell_type": "code",
   "execution_count": 10,
   "id": "c7ff4ad8",
   "metadata": {},
   "outputs": [
    {
     "data": {
      "text/plain": [
       "{'key1': 1, 'key2': 'value2'}"
      ]
     },
     "execution_count": 10,
     "metadata": {},
     "output_type": "execute_result"
    }
   ],
   "source": [
    "# dict (dictionary)\n",
    "dict({\"key1\": 1, \n",
    "      \"key2\": \"value2\"})"
   ]
  },
  {
   "cell_type": "code",
   "execution_count": 11,
   "id": "a8285044",
   "metadata": {},
   "outputs": [
    {
     "name": "stdout",
     "output_type": "stream",
     "text": [
      "{1, 2, 3}\n",
      "{1, 2, 3}\n"
     ]
    }
   ],
   "source": [
    "# set\n",
    "print(set([1,1,2,2,2,3]))\n",
    "\n",
    "print({1,2,3})"
   ]
  },
  {
   "cell_type": "markdown",
   "id": "a892f8b6",
   "metadata": {},
   "source": [
    "## Value Assignment\n",
    "\n",
    "We can assign string, integer, float, and any data structure in a variable"
   ]
  },
  {
   "cell_type": "code",
   "execution_count": 12,
   "id": "167d14e1",
   "metadata": {},
   "outputs": [],
   "source": [
    "my_text = \"This is my string\"\n",
    "\n",
    "my_int = 9\n",
    "\n",
    "my_float = 3.14\n",
    "\n",
    "my_boolean = True\n",
    "\n",
    "my_list = [\"text1\", \"text2\", 9]\n",
    "\n",
    "my_contact = {\"Mr.A\": \"099-999-7777\", \n",
    "              \"Mr.B\": \"089-999-8989\"}"
   ]
  },
  {
   "cell_type": "code",
   "execution_count": 13,
   "id": "2415a0ea",
   "metadata": {},
   "outputs": [
    {
     "name": "stdout",
     "output_type": "stream",
     "text": [
      "{'Mr.A': '099-999-7777', 'Mr.B': '089-999-8989'}\n"
     ]
    }
   ],
   "source": [
    "# now we can conveniently use the variable\n",
    "print(my_contact)"
   ]
  },
  {
   "cell_type": "code",
   "execution_count": 14,
   "id": "6201e69c",
   "metadata": {},
   "outputs": [
    {
     "data": {
      "text/plain": [
       "dict"
      ]
     },
     "execution_count": 14,
     "metadata": {},
     "output_type": "execute_result"
    }
   ],
   "source": [
    "# check type\n",
    "type(my_contact)"
   ]
  },
  {
   "cell_type": "code",
   "execution_count": 15,
   "id": "03cbf846",
   "metadata": {},
   "outputs": [
    {
     "data": {
      "text/plain": [
       "12.14"
      ]
     },
     "execution_count": 15,
     "metadata": {},
     "output_type": "execute_result"
    }
   ],
   "source": [
    "# calculation\n",
    "my_int + my_float"
   ]
  },
  {
   "cell_type": "markdown",
   "id": "a649e143",
   "metadata": {},
   "source": [
    "## Int and Float"
   ]
  },
  {
   "cell_type": "code",
   "execution_count": 16,
   "id": "efc603df",
   "metadata": {},
   "outputs": [
    {
     "data": {
      "text/plain": [
       "23.1"
      ]
     },
     "execution_count": 16,
     "metadata": {},
     "output_type": "execute_result"
    }
   ],
   "source": [
    "a = 10\n",
    "b = 13.1\n",
    "c = 2\n",
    "\n",
    "a + b"
   ]
  },
  {
   "cell_type": "code",
   "execution_count": 17,
   "id": "62cb9cee",
   "metadata": {},
   "outputs": [
    {
     "data": {
      "text/plain": [
       "-3.0999999999999996"
      ]
     },
     "execution_count": 17,
     "metadata": {},
     "output_type": "execute_result"
    }
   ],
   "source": [
    "a - b"
   ]
  },
  {
   "cell_type": "code",
   "execution_count": 18,
   "id": "b4721b0a",
   "metadata": {},
   "outputs": [
    {
     "data": {
      "text/plain": [
       "20"
      ]
     },
     "execution_count": 18,
     "metadata": {},
     "output_type": "execute_result"
    }
   ],
   "source": [
    "a * c"
   ]
  },
  {
   "cell_type": "code",
   "execution_count": 19,
   "id": "3f7a76a3",
   "metadata": {},
   "outputs": [
    {
     "data": {
      "text/plain": [
       "100"
      ]
     },
     "execution_count": 19,
     "metadata": {},
     "output_type": "execute_result"
    }
   ],
   "source": [
    "# exponential (to the power of n)\n",
    "a ** c"
   ]
  },
  {
   "cell_type": "code",
   "execution_count": 20,
   "id": "7f7d26df",
   "metadata": {},
   "outputs": [
    {
     "data": {
      "text/plain": [
       "5.0"
      ]
     },
     "execution_count": 20,
     "metadata": {},
     "output_type": "execute_result"
    }
   ],
   "source": [
    "# division\n",
    "a / c"
   ]
  },
  {
   "cell_type": "code",
   "execution_count": 21,
   "id": "d2835c15",
   "metadata": {},
   "outputs": [
    {
     "data": {
      "text/plain": [
       "0"
      ]
     },
     "execution_count": 21,
     "metadata": {},
     "output_type": "execute_result"
    }
   ],
   "source": [
    "# modulo (getting the remainer after division)\n",
    "a % c"
   ]
  },
  {
   "cell_type": "markdown",
   "id": "f61c0690",
   "metadata": {},
   "source": [
    "## String / Regex"
   ]
  },
  {
   "cell_type": "code",
   "execution_count": 22,
   "id": "d58ff880",
   "metadata": {},
   "outputs": [],
   "source": [
    "sample_string = \"This seems to be a very long string\""
   ]
  },
  {
   "cell_type": "code",
   "execution_count": 23,
   "id": "abc6cf48",
   "metadata": {},
   "outputs": [
    {
     "data": {
      "text/plain": [
       "'T'"
      ]
     },
     "execution_count": 23,
     "metadata": {},
     "output_type": "execute_result"
    }
   ],
   "source": [
    "# retriving a string by index\n",
    "sample_string[0]"
   ]
  },
  {
   "cell_type": "code",
   "execution_count": 24,
   "id": "81cc71a6",
   "metadata": {},
   "outputs": [
    {
     "data": {
      "text/plain": [
       "'Th'"
      ]
     },
     "execution_count": 24,
     "metadata": {},
     "output_type": "execute_result"
    }
   ],
   "source": [
    "# string slicing (from the first index for 2 characters)\n",
    "sample_string[:2]"
   ]
  },
  {
   "cell_type": "code",
   "execution_count": 25,
   "id": "fa571c76",
   "metadata": {},
   "outputs": [
    {
     "data": {
      "text/plain": [
       "['This', 'seems', 'to', 'be', 'a', 'very', 'long', 'string']"
      ]
     },
     "execution_count": 25,
     "metadata": {},
     "output_type": "execute_result"
    }
   ],
   "source": [
    "# split a string into list\n",
    "# by default, this will split by a blank space\n",
    "sample_string.split()"
   ]
  },
  {
   "cell_type": "code",
   "execution_count": 26,
   "id": "b82427e2",
   "metadata": {},
   "outputs": [
    {
     "data": {
      "text/plain": [
       "['This seems to be a ', ' string']"
      ]
     },
     "execution_count": 26,
     "metadata": {},
     "output_type": "execute_result"
    }
   ],
   "source": [
    "# split by a specific character or word\n",
    "sample_string.split(\"very long\")"
   ]
  },
  {
   "cell_type": "code",
   "execution_count": 27,
   "id": "f65ee718",
   "metadata": {},
   "outputs": [
    {
     "data": {
      "text/plain": [
       "'this seems to be a very long string'"
      ]
     },
     "execution_count": 27,
     "metadata": {},
     "output_type": "execute_result"
    }
   ],
   "source": [
    "# lower\n",
    "sample_string.lower()"
   ]
  },
  {
   "cell_type": "code",
   "execution_count": 28,
   "id": "8b2f2806",
   "metadata": {},
   "outputs": [
    {
     "data": {
      "text/plain": [
       "'THIS SEEMS TO BE A VERY LONG STRING'"
      ]
     },
     "execution_count": 28,
     "metadata": {},
     "output_type": "execute_result"
    }
   ],
   "source": [
    "# upper \n",
    "sample_string.upper()"
   ]
  },
  {
   "cell_type": "code",
   "execution_count": 29,
   "id": "08e68614",
   "metadata": {},
   "outputs": [
    {
     "data": {
      "text/plain": [
       "'This seems to be a very long string'"
      ]
     },
     "execution_count": 29,
     "metadata": {},
     "output_type": "execute_result"
    }
   ],
   "source": [
    "# don't forget to assign into a new variable otherwise the result won't be saved into the orginal variable\n",
    "# you can see here if we print the variable sample_string, it is strill the same\n",
    "sample_string"
   ]
  },
  {
   "cell_type": "code",
   "execution_count": 30,
   "id": "f55f55a6",
   "metadata": {},
   "outputs": [
    {
     "name": "stdout",
     "output_type": "stream",
     "text": [
      "THIS SEEMS TO BE A VERY LONG STRING\n"
     ]
    }
   ],
   "source": [
    "# new variable assignment\n",
    "new_sample_string = sample_string.upper()\n",
    "\n",
    "print(new_sample_string)"
   ]
  },
  {
   "cell_type": "code",
   "execution_count": 31,
   "id": "df5bde05",
   "metadata": {},
   "outputs": [
    {
     "data": {
      "text/plain": [
       "'This is a super cool string'"
      ]
     },
     "execution_count": 31,
     "metadata": {},
     "output_type": "execute_result"
    }
   ],
   "source": [
    "# replace a variable in a string\n",
    "description = \"super cool\"\n",
    "\n",
    "f\"This is a {description} string\""
   ]
  },
  {
   "cell_type": "code",
   "execution_count": 32,
   "id": "8bdd69b2",
   "metadata": {},
   "outputs": [
    {
     "data": {
      "text/plain": [
       "'This is a short string'"
      ]
     },
     "execution_count": 32,
     "metadata": {},
     "output_type": "execute_result"
    }
   ],
   "source": [
    "# another method for string replacement\n",
    "\"This is a {} string\".format(\"short\")"
   ]
  },
  {
   "cell_type": "markdown",
   "id": "3f9525cb",
   "metadata": {},
   "source": [
    "### Edit Distance / String Mapping"
   ]
  },
  {
   "cell_type": "code",
   "execution_count": 33,
   "id": "72bad834",
   "metadata": {},
   "outputs": [],
   "source": [
    "# to mentioned in class"
   ]
  },
  {
   "cell_type": "markdown",
   "id": "c5acb906",
   "metadata": {},
   "source": [
    "## List"
   ]
  },
  {
   "cell_type": "code",
   "execution_count": 34,
   "id": "a86a6858",
   "metadata": {},
   "outputs": [],
   "source": [
    "list_of_string = [\"string-1\", \"string-2\"]\n",
    "list_of_float = [3.14, 1.61]\n",
    "list_of_mixed = [\"string-1\", 3.14, dict({\"a\": \"b\"})]"
   ]
  },
  {
   "cell_type": "code",
   "execution_count": 35,
   "id": "cc9b9b43",
   "metadata": {},
   "outputs": [
    {
     "name": "stdout",
     "output_type": "stream",
     "text": [
      "string-1\n",
      "string-2\n"
     ]
    }
   ],
   "source": [
    "# retriving an element of a list by index\n",
    "print(list_of_string[0])\n",
    "print(list_of_string[1])"
   ]
  },
  {
   "cell_type": "code",
   "execution_count": 36,
   "id": "4001b088",
   "metadata": {},
   "outputs": [
    {
     "name": "stdout",
     "output_type": "stream",
     "text": [
      "[3.14, 1.61, 2.71]\n"
     ]
    }
   ],
   "source": [
    "# add to a list\n",
    "list_of_float.append(2.71)\n",
    "\n",
    "print(list_of_float)"
   ]
  },
  {
   "cell_type": "code",
   "execution_count": 37,
   "id": "02a8130f",
   "metadata": {},
   "outputs": [
    {
     "name": "stdout",
     "output_type": "stream",
     "text": [
      "[3.14, 1.61]\n"
     ]
    }
   ],
   "source": [
    "# remove from a list\n",
    "list_of_float.remove(2.71)\n",
    "\n",
    "print(list_of_float)"
   ]
  },
  {
   "cell_type": "code",
   "execution_count": 38,
   "id": "660dd90a",
   "metadata": {},
   "outputs": [
    {
     "data": {
      "text/plain": [
       "2"
      ]
     },
     "execution_count": 38,
     "metadata": {},
     "output_type": "execute_result"
    }
   ],
   "source": [
    "# count a number of element in list\n",
    "len(list_of_float)"
   ]
  },
  {
   "cell_type": "markdown",
   "id": "2aaded30",
   "metadata": {},
   "source": [
    "## Set\n",
    "\n",
    "You can think of set as a non-duplicable version of a list, and also without order. Similar to the concept of set in mathematics, we can do intersection and union between two or more sets."
   ]
  },
  {
   "cell_type": "code",
   "execution_count": 39,
   "id": "50b11c9e",
   "metadata": {},
   "outputs": [
    {
     "data": {
      "text/plain": [
       "{1, 2, 3}"
      ]
     },
     "execution_count": 39,
     "metadata": {},
     "output_type": "execute_result"
    }
   ],
   "source": [
    "# sample set\n",
    "{1,2,3}"
   ]
  },
  {
   "cell_type": "code",
   "execution_count": 40,
   "id": "ba6be451",
   "metadata": {},
   "outputs": [
    {
     "data": {
      "text/plain": [
       "{1, 2, 3}"
      ]
     },
     "execution_count": 40,
     "metadata": {},
     "output_type": "execute_result"
    }
   ],
   "source": [
    "# convert a list into set\n",
    "set([1,1,2,3])"
   ]
  },
  {
   "cell_type": "code",
   "execution_count": 41,
   "id": "aad98617",
   "metadata": {},
   "outputs": [
    {
     "data": {
      "text/plain": [
       "{2, 3}"
      ]
     },
     "execution_count": 41,
     "metadata": {},
     "output_type": "execute_result"
    }
   ],
   "source": [
    "# intersection of two sets\n",
    "A = {1,2,3}\n",
    "B = {2,3,4}\n",
    "C = {1,4}\n",
    "\n",
    "A.intersection(B)"
   ]
  },
  {
   "cell_type": "code",
   "execution_count": 42,
   "id": "9e7ffb42",
   "metadata": {},
   "outputs": [
    {
     "data": {
      "text/plain": [
       "{1, 2, 3, 4}"
      ]
     },
     "execution_count": 42,
     "metadata": {},
     "output_type": "execute_result"
    }
   ],
   "source": [
    "# union\n",
    "A.union(B)"
   ]
  },
  {
   "cell_type": "code",
   "execution_count": 43,
   "id": "6b0e12da",
   "metadata": {},
   "outputs": [
    {
     "data": {
      "text/plain": [
       "{1}"
      ]
     },
     "execution_count": 43,
     "metadata": {},
     "output_type": "execute_result"
    }
   ],
   "source": [
    "# subtraction\n",
    "A - B"
   ]
  },
  {
   "cell_type": "code",
   "execution_count": 44,
   "id": "6490c8a6",
   "metadata": {},
   "outputs": [
    {
     "data": {
      "text/plain": [
       "{4}"
      ]
     },
     "execution_count": 44,
     "metadata": {},
     "output_type": "execute_result"
    }
   ],
   "source": [
    "B - A"
   ]
  },
  {
   "cell_type": "code",
   "execution_count": 45,
   "id": "d2443277",
   "metadata": {},
   "outputs": [
    {
     "data": {
      "text/plain": [
       "3"
      ]
     },
     "execution_count": 45,
     "metadata": {},
     "output_type": "execute_result"
    }
   ],
   "source": [
    "# count element in set\n",
    "len(A)"
   ]
  },
  {
   "cell_type": "code",
   "execution_count": 46,
   "id": "f8733e9e",
   "metadata": {},
   "outputs": [
    {
     "data": {
      "text/plain": [
       "{'c'}"
      ]
     },
     "execution_count": 46,
     "metadata": {},
     "output_type": "execute_result"
    }
   ],
   "source": [
    "# dealing with more than 2 sets\n",
    "A = {\"a\",\"b\",\"c\"}\n",
    "B = {\"a\",\"c\"}\n",
    "C = {\"b\",\"c\"}\n",
    "\n",
    "set.intersection(*[A,B,C])"
   ]
  },
  {
   "cell_type": "code",
   "execution_count": 47,
   "id": "bb4c1b1e",
   "metadata": {},
   "outputs": [
    {
     "data": {
      "text/plain": [
       "{'a', 'b', 'c'}"
      ]
     },
     "execution_count": 47,
     "metadata": {},
     "output_type": "execute_result"
    }
   ],
   "source": [
    "set.union(*[A,B,C])"
   ]
  },
  {
   "cell_type": "markdown",
   "id": "d4c3ffcb",
   "metadata": {},
   "source": [
    "Set is used a lot in data mapping step, imagine you have 3 tables to be joined together using one column, you want to check how many percent that the value actually match. So you can use intersection of all sets, and each pair of set to find more matching details."
   ]
  },
  {
   "cell_type": "markdown",
   "id": "ab2827e0",
   "metadata": {},
   "source": [
    "## Dict\n",
    "Dictionary is organized as key-value pairs"
   ]
  },
  {
   "cell_type": "code",
   "execution_count": 48,
   "id": "2804b27c",
   "metadata": {},
   "outputs": [
    {
     "data": {
      "text/plain": [
       "{'key1': 'value1', 'key2': 'value2'}"
      ]
     },
     "execution_count": 48,
     "metadata": {},
     "output_type": "execute_result"
    }
   ],
   "source": [
    "sample_dict = {\"key1\": \"value1\", \"key2\": \"value2\"}\n",
    "\n",
    "sample_dict"
   ]
  },
  {
   "cell_type": "code",
   "execution_count": 49,
   "id": "c6d0a94d",
   "metadata": {},
   "outputs": [
    {
     "data": {
      "text/plain": [
       "'value1'"
      ]
     },
     "execution_count": 49,
     "metadata": {},
     "output_type": "execute_result"
    }
   ],
   "source": [
    "# retrive a value by key\n",
    "sample_dict[\"key1\"]"
   ]
  },
  {
   "cell_type": "code",
   "execution_count": 50,
   "id": "c1815216",
   "metadata": {},
   "outputs": [
    {
     "data": {
      "text/plain": [
       "{'key1': 'value1', 'key2': 'value2', 'key3': 'value3'}"
      ]
     },
     "execution_count": 50,
     "metadata": {},
     "output_type": "execute_result"
    }
   ],
   "source": [
    "# create a new key-value pair in an existing dictionary\n",
    "sample_dict[\"key3\"] = \"value3\"\n",
    "\n",
    "sample_dict"
   ]
  },
  {
   "cell_type": "code",
   "execution_count": 51,
   "id": "e438f088",
   "metadata": {},
   "outputs": [
    {
     "data": {
      "text/plain": [
       "3"
      ]
     },
     "execution_count": 51,
     "metadata": {},
     "output_type": "execute_result"
    }
   ],
   "source": [
    "# count the number of key-value pairs\n",
    "len(sample_dict)"
   ]
  },
  {
   "cell_type": "code",
   "execution_count": 52,
   "id": "3e6f78cb",
   "metadata": {
    "scrolled": true
   },
   "outputs": [
    {
     "data": {
      "text/plain": [
       "{'customer_id': 'c123',\n",
       " 'most_favorite_products': ['apple', 'mango', 'strawberries'],\n",
       " 'RFM': {'recency': 0.8, 'frequency': 0.2, 'monetary': 0.3}}"
      ]
     },
     "metadata": {},
     "output_type": "display_data"
    }
   ],
   "source": [
    "# be creative when using dictionary, it doesn't have to be string\n",
    "mixed_dict = {\n",
    "    \"customer_id\": \"c123\",\n",
    "    \"most_favorite_products\": [\"apple\", \"mango\", \"strawberries\"],\n",
    "    \"RFM\": {\n",
    "        \"recency\": 0.8,\n",
    "        \"frequency\": 0.2,\n",
    "        \"monetary\": 0.3\n",
    "    }\n",
    "}\n",
    "\n",
    "# we can use display function as an alternative to print as well\n",
    "# it's prettier especially for dict and dataframe\n",
    "display(mixed_dict)"
   ]
  },
  {
   "cell_type": "markdown",
   "id": "a1d0e389",
   "metadata": {},
   "source": [
    "### JSON / YAML"
   ]
  },
  {
   "cell_type": "code",
   "execution_count": 53,
   "id": "809cbcd9",
   "metadata": {},
   "outputs": [
    {
     "data": {
      "text/plain": [
       "{'apikey': 'dfdsafkdl;jsjl', 'secret': 'sdhjfkdshafjklh'}"
      ]
     },
     "execution_count": 53,
     "metadata": {},
     "output_type": "execute_result"
    }
   ],
   "source": [
    "{\n",
    "'apikey': 'dfdsafkdl;jsjl',\n",
    "'secret': 'sdhjfkdshafjklh'\n",
    "}"
   ]
  },
  {
   "cell_type": "markdown",
   "id": "4e69ebc4",
   "metadata": {},
   "source": [
    "## Git"
   ]
  },
  {
   "cell_type": "code",
   "execution_count": 54,
   "id": "40e126e0",
   "metadata": {},
   "outputs": [],
   "source": [
    "# to show overview of how it works"
   ]
  },
  {
   "cell_type": "markdown",
   "id": "9d069441",
   "metadata": {},
   "source": [
    "## Docker"
   ]
  },
  {
   "cell_type": "code",
   "execution_count": 55,
   "id": "6d8b58c2",
   "metadata": {},
   "outputs": [],
   "source": [
    "# to mentioned its functionality in class"
   ]
  },
  {
   "cell_type": "markdown",
   "id": "a933e8de",
   "metadata": {},
   "source": [
    "## Procedures"
   ]
  },
  {
   "cell_type": "markdown",
   "id": "992d82fe",
   "metadata": {},
   "source": [
    "### IF-ELSE"
   ]
  },
  {
   "cell_type": "code",
   "execution_count": 56,
   "id": "6ff9e6e1",
   "metadata": {},
   "outputs": [
    {
     "name": "stdout",
     "output_type": "stream",
     "text": [
      "x is more than 5 but less than 10\n"
     ]
    }
   ],
   "source": [
    "x = 10\n",
    "\n",
    "# if-else\n",
    "if x > 10:\n",
    "    print(\"x is more than 10\")\n",
    "elif x > 5:\n",
    "    print(\"x is more than 5 but less than 10\")\n",
    "else:\n",
    "    print(\"x is less than or equal to 5\")"
   ]
  },
  {
   "cell_type": "markdown",
   "id": "50425066",
   "metadata": {},
   "source": [
    "### For Loop"
   ]
  },
  {
   "cell_type": "code",
   "execution_count": 57,
   "id": "f5e9ce43",
   "metadata": {},
   "outputs": [
    {
     "name": "stdout",
     "output_type": "stream",
     "text": [
      "1\n",
      "2\n",
      "3\n",
      "4\n"
     ]
    }
   ],
   "source": [
    "small_list = [1,2,3,4]\n",
    "\n",
    "for i in small_list:\n",
    "    print(i)"
   ]
  },
  {
   "cell_type": "code",
   "execution_count": 58,
   "id": "d21977bf",
   "metadata": {},
   "outputs": [
    {
     "name": "stdout",
     "output_type": "stream",
     "text": [
      "a\n",
      "b\n",
      "c\n"
     ]
    }
   ],
   "source": [
    "# for loop over a dictionary with show the key\n",
    "small_dict = {\"a\": 1.1, \"b\": 2.2, \"c\": 3.3}\n",
    "\n",
    "for i in small_dict:\n",
    "    print(i)"
   ]
  },
  {
   "cell_type": "code",
   "execution_count": 59,
   "id": "ba678bce",
   "metadata": {},
   "outputs": [
    {
     "name": "stdout",
     "output_type": "stream",
     "text": [
      "1.1\n",
      "2.2\n",
      "3.3\n"
     ]
    }
   ],
   "source": [
    "# if you want the value of the dict, you need to do as follows\n",
    "# note that we can replace i with key or anything, we just need to be consistent within the loop\n",
    "\n",
    "for key in small_dict:\n",
    "    print(small_dict[key])"
   ]
  },
  {
   "cell_type": "code",
   "execution_count": 60,
   "id": "05e83d32",
   "metadata": {},
   "outputs": [
    {
     "name": "stdout",
     "output_type": "stream",
     "text": [
      "The value of the key a is LESS than 2\n",
      "The value of the key b is MORE than or equal to 2\n",
      "The value of the key c is MORE than or equal to 2\n"
     ]
    }
   ],
   "source": [
    "# a mix of for loop and if-else\n",
    "threshold = 2\n",
    "\n",
    "for key in small_dict:\n",
    "    \n",
    "    if small_dict[key] < threshold:\n",
    "        print(f\"The value of the key {key} is LESS than {threshold}\")\n",
    "    else:\n",
    "        print(f\"The value of the key {key} is MORE than or equal to {threshold}\")"
   ]
  },
  {
   "cell_type": "markdown",
   "id": "fd6f0b82",
   "metadata": {},
   "source": [
    "## Seaborn"
   ]
  },
  {
   "cell_type": "code",
   "execution_count": 61,
   "id": "4587e83e",
   "metadata": {},
   "outputs": [],
   "source": [
    "# to show sample is class"
   ]
  },
  {
   "cell_type": "markdown",
   "id": "491c7bb6",
   "metadata": {},
   "source": [
    "There are other procedure such as while loop, try-except, and more. But let's start from these if-else and for loop first."
   ]
  },
  {
   "cell_type": "markdown",
   "id": "bbb2deb5",
   "metadata": {},
   "source": [
    "## Mini Problem Solving Practice\n",
    "In the real world, we will need to decide how to keep your data structure. For example, if you are told to calculate GPA, you need to think about how to keep the grade for each subject, and for each student. There is no right or wrong answer, you can give it a try and change it later. \n",
    "\n",
    "The more you practice, the better you become at guessing the data structure that pave your way to a cleaner code."
   ]
  },
  {
   "cell_type": "markdown",
   "id": "7c5d91d4",
   "metadata": {},
   "source": [
    "1. My favorite movies\n",
    "\n",
    "Keep two movies in a list, then print \"My favorite movies are ___ and ___\""
   ]
  },
  {
   "cell_type": "code",
   "execution_count": null,
   "id": "dbd5e60b",
   "metadata": {},
   "outputs": [],
   "source": []
  },
  {
   "cell_type": "markdown",
   "id": "97ae00ca",
   "metadata": {},
   "source": [
    "2. GPA Calculation"
   ]
  },
  {
   "cell_type": "code",
   "execution_count": null,
   "id": "0088c611",
   "metadata": {},
   "outputs": [],
   "source": []
  }
 ],
 "metadata": {
  "kernelspec": {
   "display_name": "Python 3 (ipykernel)",
   "language": "python",
   "name": "python3"
  },
  "language_info": {
   "codemirror_mode": {
    "name": "ipython",
    "version": 3
   },
   "file_extension": ".py",
   "mimetype": "text/x-python",
   "name": "python",
   "nbconvert_exporter": "python",
   "pygments_lexer": "ipython3",
   "version": "3.9.5"
  }
 },
 "nbformat": 4,
 "nbformat_minor": 5
}
