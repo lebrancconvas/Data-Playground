{
 "cells": [
  {
   "cell_type": "code",
   "execution_count": 1,
   "metadata": {},
   "outputs": [
    {
     "name": "stdout",
     "output_type": "stream",
     "text": [
      "                    tweet_id           writer   post_date  \\\n",
      "0         550441509175443456  VisualStockRSRC  1420070457   \n",
      "1         550441672312512512      KeralaGuy77  1420070496   \n",
      "2         550441732014223360      DozenStocks  1420070510   \n",
      "3         550442977802207232     ShowDreamCar  1420070807   \n",
      "4         550443807834402816     i_Know_First  1420071005   \n",
      "...                      ...              ...         ...   \n",
      "3717959  1212159765914079234        TEEELAZER  1577836383   \n",
      "3717960  1212159838882533376    ShortingIsFun  1577836401   \n",
      "3717961  1212160015332728833      Commuternyc  1577836443   \n",
      "3717962  1212160410692046849      MoriaCrypto  1577836537   \n",
      "3717963  1212160477159206912         treabase  1577836553   \n",
      "\n",
      "                                                      body  comment_num  \\\n",
      "0        lx21 made $10,008  on $AAPL -Check it out! htt...            0   \n",
      "1        Insanity of today weirdo massive selling. $aap...            0   \n",
      "2        S&P100 #Stocks Performance $HD $LOW $SBUX $TGT...            0   \n",
      "3        $GM $TSLA: Volkswagen Pushes 2014 Record Recal...            0   \n",
      "4        Swing Trading: Up To 8.91% Return In 14 Days h...            0   \n",
      "...                                                    ...          ...   \n",
      "3717959  That $SPY $SPX puuump in the last hour was the...            1   \n",
      "3717960  In 2020 I may start Tweeting out positive news...            0   \n",
      "3717961  Patiently Waiting for the no twitter sitter tw...            0   \n",
      "3717962  I don't discriminate. I own both $aapl and $ms...            1   \n",
      "3717963  $AAPL #patent 10,522,475 Vertical interconnect...            0   \n",
      "\n",
      "         retweet_num  like_num  \n",
      "0                  0         1  \n",
      "1                  0         0  \n",
      "2                  0         0  \n",
      "3                  0         1  \n",
      "4                  0         1  \n",
      "...              ...       ...  \n",
      "3717959            0         6  \n",
      "3717960            0         1  \n",
      "3717961            0         5  \n",
      "3717962            0         1  \n",
      "3717963            0         0  \n",
      "\n",
      "[3717964 rows x 7 columns]\n"
     ]
    }
   ],
   "source": [
    "import seaborn as sns\n",
    "import pandas as pd  \n",
    "import numpy as np \n",
    "\n",
    "data = pd.read_csv(\"data/Datakaggle/Tweet.csv\") \n",
    "\n",
    "print(data) \n"
   ]
  },
  {
   "cell_type": "markdown",
   "metadata": {},
   "source": []
  }
 ],
 "metadata": {
  "interpreter": {
   "hash": "23cf237ea98f6d2d637cc1a1a06963a4e1e33f0b3ed3a4508dbf20954544af4a"
  },
  "kernelspec": {
   "display_name": "Python 3.7.11 64-bit ('myenv': conda)",
   "name": "python3"
  },
  "language_info": {
   "codemirror_mode": {
    "name": "ipython",
    "version": 3
   },
   "file_extension": ".py",
   "mimetype": "text/x-python",
   "name": "python",
   "nbconvert_exporter": "python",
   "pygments_lexer": "ipython3",
   "version": "3.7.11"
  },
  "orig_nbformat": 4
 },
 "nbformat": 4,
 "nbformat_minor": 2
}
